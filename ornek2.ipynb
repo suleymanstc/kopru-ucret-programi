{
 "cells": [
  {
   "cell_type": "markdown",
   "metadata": {},
   "source": [
    "1915 Çanakkale Köprüsü'nde saatte 112 + X*2 hızla gidiyorsun ve köprüden çıkışta ücret ile beraber hızına göre bir ceza ödeyeceksin. Otomobil ücretinin 272.5 TL olduğu durumda.\n",
    "\n",
    "120 hız sınırının %0 - 10 üzerindeysen ücretin %50'si\n",
    "\n",
    "%10 - 20 üstündeysen %75'i\n",
    "\n",
    "%20'den fazlaysan %150'si kadar ceza ödeyeceksin.\n",
    "\n",
    "Bu duruma göre hızına göre ödeyeceğin toplam miktarı sana söyleyen bir Fonksiyon yaz\n",
    "\n",
    "Dipnot 1: Milletvekili aracın varsa ücret ve ceza ödemezsin\n",
    "\n",
    "Dipnot2: X = şuanki saat (Örn: 19:15 -----> 112 + 19*2 = 150 km/h)"
   ]
  },
  {
   "cell_type": "code",
   "execution_count": 11,
   "metadata": {},
   "outputs": [
    {
     "name": "stdout",
     "output_type": "stream",
     "text": [
      "Ortalama hiziniz:  152 \n",
      "\n",
      "###--- KÖPRÜ ÜCRETİ---##\n",
      "\n",
      "\n",
      "ucret: 272.5, CEZA: 408.75\n",
      "Toplam:  681.25\n"
     ]
    }
   ],
   "source": [
    "hiz_siniri = 120\n",
    "saat = 20\n",
    "benim_hizim = 112 + saat*2\n",
    "ucret = 272.5\n",
    "mv = input(\"araç mv aracı mı? (e/h)\")\n",
    "\n",
    "def ceza(mv, hiz):\n",
    "    print(\"Ortalama hiziniz: \",benim_hizim,\"\\n\")\n",
    "    if mv == \"e\":\n",
    "        print(\"ucretsiz\")\n",
    "    else: \n",
    "        print(\"###--- KÖPRÜ ÜCRETİ---##\")\n",
    "        print(\"\\n\")\n",
    "    \n",
    "        if benim_hizim < hiz_siniri:\n",
    "            print(f\"ucret: {ucret}, CEZA: {ucret * 0}\",)\n",
    "        elif benim_hizim < hiz_siniri*1.1:\n",
    "            print(f\"ucret: {ucret}, CEZA: {ucret * 0.5}\",)\n",
    "            print(\"Toplam: \",ucret*1.5)\n",
    "        elif benim_hizim <hiz_siniri*1.2:\n",
    "            print(f\"ucret: {ucret}, CEZA: {ucret * 0.75}\",)\n",
    "            print(\"Toplam: \",ucret*1.75)\n",
    "        else:\n",
    "            print(f\"ucret: {ucret}, CEZA: {ucret * 1.5}\",)\n",
    "            print(\"Toplam: \",ucret*2.5)\n",
    "\n",
    "ceza(mv, benim_hizim)\n",
    "\n"
   ]
  },
  {
   "cell_type": "code",
   "execution_count": null,
   "metadata": {},
   "outputs": [],
   "source": []
  },
  {
   "cell_type": "code",
   "execution_count": null,
   "metadata": {},
   "outputs": [],
   "source": []
  },
  {
   "cell_type": "code",
   "execution_count": null,
   "metadata": {},
   "outputs": [],
   "source": []
  },
  {
   "cell_type": "code",
   "execution_count": null,
   "metadata": {},
   "outputs": [],
   "source": []
  },
  {
   "cell_type": "code",
   "execution_count": null,
   "metadata": {},
   "outputs": [],
   "source": []
  },
  {
   "cell_type": "code",
   "execution_count": null,
   "metadata": {},
   "outputs": [],
   "source": []
  }
 ],
 "metadata": {
  "kernelspec": {
   "display_name": "base",
   "language": "python",
   "name": "python3"
  },
  "language_info": {
   "codemirror_mode": {
    "name": "ipython",
    "version": 3
   },
   "file_extension": ".py",
   "mimetype": "text/x-python",
   "name": "python",
   "nbconvert_exporter": "python",
   "pygments_lexer": "ipython3",
   "version": "3.12.7"
  }
 },
 "nbformat": 4,
 "nbformat_minor": 2
}
